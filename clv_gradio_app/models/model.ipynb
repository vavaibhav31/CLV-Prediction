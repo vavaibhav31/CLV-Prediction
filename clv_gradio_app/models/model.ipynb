{
 "cells": [
  {
   "cell_type": "code",
   "execution_count": 2,
   "metadata": {},
   "outputs": [
    {
     "name": "stdout",
     "output_type": "stream",
     "text": [
      "✅ Model saved to clv_gradioapp/models/clv.pkl\n"
     ]
    }
   ],
   "source": [
    "import pandas as pd\n",
    "from lifetimes.utils import summary_data_from_transaction_data\n",
    "from xgboost import XGBRegressor\n",
    "import joblib\n",
    "import os\n",
    "\n",
    "# Load and preprocess\n",
    "df = pd.read_excel(\"Online Retail.xlsx\")\n",
    "df.dropna(subset=['CustomerID'], inplace=True)\n",
    "df = df[df['Quantity'] > 0]\n",
    "df = df[df['UnitPrice'] > 0]\n",
    "df['InvoiceDate'] = pd.to_datetime(df['InvoiceDate'])\n",
    "df['TotalPrice'] = df['Quantity'] * df['UnitPrice']\n",
    "\n",
    "# Create summary\n",
    "summary = summary_data_from_transaction_data(\n",
    "    df, 'CustomerID', 'InvoiceDate', monetary_value_col='TotalPrice',\n",
    "    observation_period_end=df['InvoiceDate'].max()\n",
    ")\n",
    "summary = summary[summary['monetary_value'] > 0]\n",
    "X = summary[['frequency', 'recency', 'T', 'monetary_value']]\n",
    "y = summary['monetary_value'] * summary['frequency']\n",
    "\n",
    "# Train model\n",
    "model = XGBRegressor()\n",
    "model.fit(X, y)\n",
    "\n",
    "# Ensure folder exists and save\n",
    "os.makedirs(\"clv_gradioapp/models\", exist_ok=True)\n",
    "joblib.dump(model, \"clv_gradioapp/models/clv.pkl\")\n",
    "\n",
    "print(\"✅ Model saved to clv_gradioapp/models/clv.pkl\")\n",
    "\n"
   ]
  },
  {
   "cell_type": "code",
   "execution_count": null,
   "metadata": {},
   "outputs": [],
   "source": []
  }
 ],
 "metadata": {
  "interpreter": {
   "hash": "b89b5cfaba6639976dc87ff2fec6d58faec662063367e2c229c520fe71072417"
  },
  "kernelspec": {
   "display_name": "Python 3.10.1 64-bit",
   "language": "python",
   "name": "python3"
  },
  "language_info": {
   "codemirror_mode": {
    "name": "ipython",
    "version": 3
   },
   "file_extension": ".py",
   "mimetype": "text/x-python",
   "name": "python",
   "nbconvert_exporter": "python",
   "pygments_lexer": "ipython3",
   "version": "3.10.1"
  },
  "orig_nbformat": 4
 },
 "nbformat": 4,
 "nbformat_minor": 2
}
